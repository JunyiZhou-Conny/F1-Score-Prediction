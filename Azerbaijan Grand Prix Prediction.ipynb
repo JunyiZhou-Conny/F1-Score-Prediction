{
 "cells": [
  {
   "attachments": {},
   "cell_type": "markdown",
   "metadata": {},
   "source": [
    "# Final Group Project: \n",
    "# Prediction of the Top 3 Winners of the upcoming Azerbaijan Grand Prix\n",
    "#### Group Member: Catherine Jin, Oliver Zhao, Conny Zhou\n",
    "#### Section: QTM 151, Section 3"
   ]
  },
  {
   "attachments": {},
   "cell_type": "markdown",
   "metadata": {},
   "source": [
    "## I. Introduction\n",
    "- Background: What is F1?\n",
    "\n",
    "    Formula One, also known as F1, is the highest class of single-seater auto racing that is sanctioned by the Fédération Internationale de l'Automobile (FIA). The F1 World Championship is the most prestigious and popular motorsport event in the world, featuring a series of races called Grands Prix that take place across the globe. F1 cars are the most technologically advanced and fastest racing cars in the world, capable of reaching speeds over 370 km/h (230 mph). The sport is known for its high levels of competition, drama, and excitement, with drivers and teams competing for the World Championship title each season. F1 is watched by millions of fans around the world and has a rich history dating back to the 1950s.\n",
    "\n",
    "- Purpose\n",
    "\n",
    "    Our group aims to forecast the top three winners of the upcoming Azerbaijan Grand Prix on April 30, 2023, by analyzing data from the past six years, starting from 2017. First, we examined the correlation between a driver's initial \"grid position\" and his/her final \"rank\", hoping to find a strong positive correlation between the two variables, and then we choose to employ \"grid position\" as an indicator of a driver's potential success in the upcoming Azerbaijan race.\n",
    "\n",
    "- Results\n",
    "\n",
    "    The analysis unveils that there is a positive relationship between grid position and possibility of winning. The driver starting from the front grid positions are more likely to get a higher rank in the end.\n",
    "    Through this obervation, we analyze the past records for the 20 drivers that are about to contest in the upcoming Azerbaijan Grand Prix. We utilize an interactive polar graph to visualize the records for each driver who contested in Azerbaijan Grand Prix in the previous yeasrs. More detailed descriptions are given on top of the polar graph.\n",
    "    "
   ]
  },
  {
   "attachments": {},
   "cell_type": "markdown",
   "metadata": {},
   "source": [
    "## II. Data Description\n",
    "\n",
    "- We choose 4 datasets among the 14 datasets provided.\n",
    "    \n",
    "    drivers.csv: \n",
    "    1. The dataset contains all the drivers participating in Formula One races \n",
    "    2. The dataset has 857 observations, with each row representing information about a driver, including name, nationality, etc.\n",
    "\n",
    "    results.csv:\n",
    "    1. The dataset contains all the results of the past races\n",
    "    2. The dataset has 25840 observations, with each row indicating the Id of one particular race, the driver Id, the constructor Id, and a plethora of detailed time data\n",
    "\n",
    "    races.csv:\n",
    "    1. The dataset contains the general location and pre-racing information\n",
    "    2. The dataset has 1102 observations, with each row specifying the date for free practice, qualifying races, the final race, as well as the location for the race\n",
    "\n",
    "    circuits.csv:\n",
    "    1. The dataset contains all the circuits that were and are used for holding the Grand Prix\n",
    "    2. The dataset has 77 observations, with each row indicating the location, altitude, longitude, and other information about the circuits"
   ]
  },
  {
   "cell_type": "code",
   "execution_count": 2,
   "metadata": {},
   "outputs": [],
   "source": [
    "#Import several libraries\n",
    "import pandas as pd\n",
    "import matplotlib.pyplot as plt\n",
    "import numpy as np\n",
    "import plotly.express as px"
   ]
  },
  {
   "cell_type": "code",
   "execution_count": 17,
   "metadata": {},
   "outputs": [],
   "source": [
    "#Import datasets\n",
    "drivers = pd.read_csv(\"data_raw/drivers.csv\")\n",
    "results = pd.read_csv(\"data_raw/results.csv\")\n",
    "races = pd.read_csv(\"data_raw/races.csv\")\n",
    "circuits = pd.read_csv(\"data_raw/circuits.csv\")"
   ]
  },
  {
   "attachments": {},
   "cell_type": "markdown",
   "metadata": {},
   "source": [
    "- Merging + Cleaning\n",
    "\n",
    "    To see the relationship between grid positions and final rank, we query dataset through selecting the driver whose status Id is 1, meaning the race is finished without other unexpectancy.\n",
    "\n",
    "    We then compute the aggregate statistics of the mean final rank of grid between 1 to 20\n"
   ]
  },
  {
   "cell_type": "code",
   "execution_count": 32,
   "metadata": {},
   "outputs": [
    {
     "data": {
      "text/html": [
       "<div>\n",
       "<style scoped>\n",
       "    .dataframe tbody tr th:only-of-type {\n",
       "        vertical-align: middle;\n",
       "    }\n",
       "\n",
       "    .dataframe tbody tr th {\n",
       "        vertical-align: top;\n",
       "    }\n",
       "\n",
       "    .dataframe thead th {\n",
       "        text-align: right;\n",
       "    }\n",
       "</style>\n",
       "<table border=\"1\" class=\"dataframe\">\n",
       "  <thead>\n",
       "    <tr style=\"text-align: right;\">\n",
       "      <th></th>\n",
       "      <th>mean_rank</th>\n",
       "    </tr>\n",
       "    <tr>\n",
       "      <th>grid</th>\n",
       "      <th></th>\n",
       "    </tr>\n",
       "  </thead>\n",
       "  <tbody>\n",
       "    <tr>\n",
       "      <th>1</th>\n",
       "      <td>1.794118</td>\n",
       "    </tr>\n",
       "    <tr>\n",
       "      <th>2</th>\n",
       "      <td>2.472574</td>\n",
       "    </tr>\n",
       "    <tr>\n",
       "      <th>3</th>\n",
       "      <td>2.998525</td>\n",
       "    </tr>\n",
       "    <tr>\n",
       "      <th>4</th>\n",
       "      <td>3.504902</td>\n",
       "    </tr>\n",
       "    <tr>\n",
       "      <th>5</th>\n",
       "      <td>4.066421</td>\n",
       "    </tr>\n",
       "    <tr>\n",
       "      <th>6</th>\n",
       "      <td>4.395010</td>\n",
       "    </tr>\n",
       "    <tr>\n",
       "      <th>7</th>\n",
       "      <td>5.253933</td>\n",
       "    </tr>\n",
       "    <tr>\n",
       "      <th>8</th>\n",
       "      <td>5.544335</td>\n",
       "    </tr>\n",
       "    <tr>\n",
       "      <th>9</th>\n",
       "      <td>5.948087</td>\n",
       "    </tr>\n",
       "    <tr>\n",
       "      <th>10</th>\n",
       "      <td>6.356688</td>\n",
       "    </tr>\n",
       "    <tr>\n",
       "      <th>11</th>\n",
       "      <td>6.779851</td>\n",
       "    </tr>\n",
       "    <tr>\n",
       "      <th>12</th>\n",
       "      <td>7.083004</td>\n",
       "    </tr>\n",
       "    <tr>\n",
       "      <th>13</th>\n",
       "      <td>7.802752</td>\n",
       "    </tr>\n",
       "    <tr>\n",
       "      <th>14</th>\n",
       "      <td>8.121212</td>\n",
       "    </tr>\n",
       "    <tr>\n",
       "      <th>15</th>\n",
       "      <td>8.641026</td>\n",
       "    </tr>\n",
       "    <tr>\n",
       "      <th>16</th>\n",
       "      <td>8.516779</td>\n",
       "    </tr>\n",
       "    <tr>\n",
       "      <th>17</th>\n",
       "      <td>9.592308</td>\n",
       "    </tr>\n",
       "    <tr>\n",
       "      <th>18</th>\n",
       "      <td>10.000000</td>\n",
       "    </tr>\n",
       "    <tr>\n",
       "      <th>19</th>\n",
       "      <td>9.658824</td>\n",
       "    </tr>\n",
       "    <tr>\n",
       "      <th>20</th>\n",
       "      <td>9.197368</td>\n",
       "    </tr>\n",
       "  </tbody>\n",
       "</table>\n",
       "</div>"
      ],
      "text/plain": [
       "      mean_rank\n",
       "grid           \n",
       "1      1.794118\n",
       "2      2.472574\n",
       "3      2.998525\n",
       "4      3.504902\n",
       "5      4.066421\n",
       "6      4.395010\n",
       "7      5.253933\n",
       "8      5.544335\n",
       "9      5.948087\n",
       "10     6.356688\n",
       "11     6.779851\n",
       "12     7.083004\n",
       "13     7.802752\n",
       "14     8.121212\n",
       "15     8.641026\n",
       "16     8.516779\n",
       "17     9.592308\n",
       "18    10.000000\n",
       "19     9.658824\n",
       "20     9.197368"
      ]
     },
     "metadata": {},
     "output_type": "display_data"
    }
   ],
   "source": [
    "# Clean up the dataset through only selecting the driver whose status Id is 1, meaning the race is finished without other unexpectancy\n",
    "# Then compute the mean\n",
    "vec_grid = np.arange(1,21)\n",
    "result_corr = (results.query(\"statusId == 1\")\n",
    "               .query(\"grid.isin(@vec_grid)\")\n",
    "               .groupby([\"grid\"])\n",
    "               .agg(mean_rank = ('positionOrder', 'mean')))\n",
    "display(result_corr)"
   ]
  },
  {
   "attachments": {},
   "cell_type": "markdown",
   "metadata": {},
   "source": [
    "- Merging + Cleaning + Manipulating\n",
    "\n",
    "    In the first chunk, we select the 20 players in this year's competition. We format the data into a vector containing simply the driverId to make subsequent operations easier.\n",
    "\n",
    "    We then did a seires of operations merging the 4 datasets above into the final result where we are going to use for making the polar graph. The final dataset is named as result_Baku, where Baku is the city where 2023 Azerbaijan Grand Prix is going to take place.\n",
    "\n",
    "    In particular, to transform our data in a way that is compatible with the polar graph, we define column [year_str] which is year represented in string format."
   ]
  },
  {
   "cell_type": "code",
   "execution_count": 30,
   "metadata": {},
   "outputs": [],
   "source": [
    "drivers_2023 = drivers.query(\"(surname == 'Verstappen' and forename == 'Max') or \\\n",
    "                             (surname == 'Pérez' and forename == 'Sergio') or \\\n",
    "                             (surname == 'Alonso' and forename == 'Fernando') or \\\n",
    "                             (surname == 'Stroll' and forename == 'Lance') or \\\n",
    "                             (surname == 'Russell' and forename == 'George') or \\\n",
    "                             (surname == 'Hamilton' and forename == 'Lewis') or \\\n",
    "                             (surname == 'Leclerc' and forename == 'Charles') or \\\n",
    "                             (surname == 'Sainz' and forename == 'Carlos') or \\\n",
    "                             (surname == 'Piastri' and forename == 'Oscar') or \\\n",
    "                             (surname == 'Norris' and forename == 'Lando') or \\\n",
    "                             (surname == 'Ocon' and forename == 'Esteban') or \\\n",
    "                             (surname == 'Gasly' and forename == 'Pierre') or \\\n",
    "                             (surname == 'Hülkenberg' and forename == 'Nico') or \\\n",
    "                             (surname == 'Magnussen' and forename == 'Kevin') or \\\n",
    "                             (surname == 'Zhou' and forename == 'Guanyu') or \\\n",
    "                             (surname == 'Bottas' and forename == 'Valtteri') or \\\n",
    "                             (surname == 'de Vries' and forename == 'Nyck') or \\\n",
    "                             (surname == 'Tsunoda' and forename == 'Yuki') or \\\n",
    "                             (surname == 'Sargeant' and forename == 'Logan') or \\\n",
    "                             (surname == 'Albon' and forename == 'Alexander')\")"
   ]
  },
  {
   "cell_type": "code",
   "execution_count": 31,
   "metadata": {},
   "outputs": [],
   "source": [
    "##Predict the outcome in the forthcoming 4/30 Azerbaijan Grand Prix based on pervious performance\n",
    "##Extract past competitions with the following commonality:\n",
    "##Circuit ID: 73, Baku, Azerbaijan\n",
    "##Driver ID: 20 drivers in 2023\n",
    "series_drId = drivers_2023[\"driverId\"]\n",
    "vec_drId = np.array(series_drId.values)\n",
    "results_Baku = (results[results['driverId'].isin(vec_drId)]\n",
    "                .query(\"raceId == [976, 992, 1013, 1057, 1081]\"))\n",
    "\n",
    "               \n",
    "##merge the data with races on raceId\n",
    "results_Baku = pd.merge(results_Baku, races, on='raceId')\n",
    "##define a new column year in string format\n",
    "results_Baku['year_str'] = results_Baku['year'].astype(str)\n",
    "##add the corresponding forename and surname to the driverId\n",
    "results_Baku = pd.merge(results_Baku, drivers, on='driverId')\n",
    "\n"
   ]
  },
  {
   "attachments": {},
   "cell_type": "markdown",
   "metadata": {},
   "source": [
    "\n",
    "\n",
    "- Column Description\n",
    "\n",
    "    I. Polar Plot Rationale \n",
    "\n",
    "    Initiating from the grid position (var grid_position)is vital on tracks where surpassing competitors is challenging, as it provides the benefit of being a few meters in front and on the standard racecourse, which is typically cleaner and offers better traction. The subsequent chart illustrates the relationship between commencing in the grid position and securing victory in several of the most renowned racing circuits(var circuitId).\n",
    "\n",
    "\n",
    "\n",
    "    II. Polar Plot Analysis \n",
    "\n",
    "    In this polar plot, the radius(r) represents the grid position the player is in in the years they participated, and the circle consists of 5 points representing the year the race was held. The closer to the center of the circle, the better the grid position is which potentially helps with the driver’s performance as mentioned above. Taking a look at Hamilton, he was in 4 races and has grid position in front except in 2021."
   ]
  },
  {
   "cell_type": "code",
   "execution_count": 33,
   "metadata": {},
   "outputs": [
    {
     "name": "stderr",
     "output_type": "stream",
     "text": [
      "/Library/Frameworks/Python.framework/Versions/3.11/lib/python3.11/site-packages/plotly/express/_core.py:271: FutureWarning:\n",
      "\n",
      "The frame.append method is deprecated and will be removed from pandas in a future version. Use pandas.concat instead.\n",
      "\n",
      "/Library/Frameworks/Python.framework/Versions/3.11/lib/python3.11/site-packages/plotly/express/_core.py:271: FutureWarning:\n",
      "\n",
      "The frame.append method is deprecated and will be removed from pandas in a future version. Use pandas.concat instead.\n",
      "\n",
      "/Library/Frameworks/Python.framework/Versions/3.11/lib/python3.11/site-packages/plotly/express/_core.py:271: FutureWarning:\n",
      "\n",
      "The frame.append method is deprecated and will be removed from pandas in a future version. Use pandas.concat instead.\n",
      "\n",
      "/Library/Frameworks/Python.framework/Versions/3.11/lib/python3.11/site-packages/plotly/express/_core.py:271: FutureWarning:\n",
      "\n",
      "The frame.append method is deprecated and will be removed from pandas in a future version. Use pandas.concat instead.\n",
      "\n",
      "/Library/Frameworks/Python.framework/Versions/3.11/lib/python3.11/site-packages/plotly/express/_core.py:271: FutureWarning:\n",
      "\n",
      "The frame.append method is deprecated and will be removed from pandas in a future version. Use pandas.concat instead.\n",
      "\n",
      "/Library/Frameworks/Python.framework/Versions/3.11/lib/python3.11/site-packages/plotly/express/_core.py:271: FutureWarning:\n",
      "\n",
      "The frame.append method is deprecated and will be removed from pandas in a future version. Use pandas.concat instead.\n",
      "\n",
      "/Library/Frameworks/Python.framework/Versions/3.11/lib/python3.11/site-packages/plotly/express/_core.py:271: FutureWarning:\n",
      "\n",
      "The frame.append method is deprecated and will be removed from pandas in a future version. Use pandas.concat instead.\n",
      "\n",
      "/Library/Frameworks/Python.framework/Versions/3.11/lib/python3.11/site-packages/plotly/express/_core.py:271: FutureWarning:\n",
      "\n",
      "The frame.append method is deprecated and will be removed from pandas in a future version. Use pandas.concat instead.\n",
      "\n",
      "/Library/Frameworks/Python.framework/Versions/3.11/lib/python3.11/site-packages/plotly/express/_core.py:271: FutureWarning:\n",
      "\n",
      "The frame.append method is deprecated and will be removed from pandas in a future version. Use pandas.concat instead.\n",
      "\n",
      "/Library/Frameworks/Python.framework/Versions/3.11/lib/python3.11/site-packages/plotly/express/_core.py:271: FutureWarning:\n",
      "\n",
      "The frame.append method is deprecated and will be removed from pandas in a future version. Use pandas.concat instead.\n",
      "\n",
      "/Library/Frameworks/Python.framework/Versions/3.11/lib/python3.11/site-packages/plotly/express/_core.py:271: FutureWarning:\n",
      "\n",
      "The frame.append method is deprecated and will be removed from pandas in a future version. Use pandas.concat instead.\n",
      "\n",
      "/Library/Frameworks/Python.framework/Versions/3.11/lib/python3.11/site-packages/plotly/express/_core.py:271: FutureWarning:\n",
      "\n",
      "The frame.append method is deprecated and will be removed from pandas in a future version. Use pandas.concat instead.\n",
      "\n",
      "/Library/Frameworks/Python.framework/Versions/3.11/lib/python3.11/site-packages/plotly/express/_core.py:271: FutureWarning:\n",
      "\n",
      "The frame.append method is deprecated and will be removed from pandas in a future version. Use pandas.concat instead.\n",
      "\n",
      "/Library/Frameworks/Python.framework/Versions/3.11/lib/python3.11/site-packages/plotly/express/_core.py:271: FutureWarning:\n",
      "\n",
      "The frame.append method is deprecated and will be removed from pandas in a future version. Use pandas.concat instead.\n",
      "\n",
      "/Library/Frameworks/Python.framework/Versions/3.11/lib/python3.11/site-packages/plotly/express/_core.py:271: FutureWarning:\n",
      "\n",
      "The frame.append method is deprecated and will be removed from pandas in a future version. Use pandas.concat instead.\n",
      "\n",
      "/Library/Frameworks/Python.framework/Versions/3.11/lib/python3.11/site-packages/plotly/express/_core.py:271: FutureWarning:\n",
      "\n",
      "The frame.append method is deprecated and will be removed from pandas in a future version. Use pandas.concat instead.\n",
      "\n",
      "/Library/Frameworks/Python.framework/Versions/3.11/lib/python3.11/site-packages/plotly/express/_core.py:271: FutureWarning:\n",
      "\n",
      "The frame.append method is deprecated and will be removed from pandas in a future version. Use pandas.concat instead.\n",
      "\n"
     ]
    },
    {
     "data": {
      "application/vnd.plotly.v1+json": {
       "config": {
        "plotlyServerURL": "https://plot.ly"
       },
       "data": [
        {
         "hovertemplate": "surname=Bottas<br>positionOrder=%{r}<br>year_str=%{theta}<extra></extra>",
         "legendgroup": "Bottas",
         "line": {
          "color": "#636efa",
          "dash": "solid"
         },
         "marker": {
          "symbol": "circle"
         },
         "mode": "lines",
         "name": "Bottas",
         "r": [
          2,
          14,
          1,
          12,
          11,
          2
         ],
         "showlegend": true,
         "subplot": "polar",
         "theta": [
          "2017",
          "2018",
          "2019",
          "2021",
          "2022",
          "2017"
         ],
         "type": "scatterpolar"
        },
        {
         "hovertemplate": "surname=Stroll<br>positionOrder=%{r}<br>year_str=%{theta}<extra></extra>",
         "legendgroup": "Stroll",
         "line": {
          "color": "#EF553B",
          "dash": "solid"
         },
         "marker": {
          "symbol": "circle"
         },
         "mode": "lines",
         "name": "Stroll",
         "r": [
          3,
          8,
          9,
          19,
          16,
          3
         ],
         "showlegend": true,
         "subplot": "polar",
         "theta": [
          "2017",
          "2018",
          "2019",
          "2021",
          "2022",
          "2017"
         ],
         "type": "scatterpolar"
        },
        {
         "hovertemplate": "surname=Hamilton<br>positionOrder=%{r}<br>year_str=%{theta}<extra></extra>",
         "legendgroup": "Hamilton",
         "line": {
          "color": "#00cc96",
          "dash": "solid"
         },
         "marker": {
          "symbol": "circle"
         },
         "mode": "lines",
         "name": "Hamilton",
         "r": [
          5,
          1,
          2,
          15,
          4,
          5
         ],
         "showlegend": true,
         "subplot": "polar",
         "theta": [
          "2017",
          "2018",
          "2019",
          "2021",
          "2022",
          "2017"
         ],
         "type": "scatterpolar"
        },
        {
         "hovertemplate": "surname=Ocon<br>positionOrder=%{r}<br>year_str=%{theta}<extra></extra>",
         "legendgroup": "Ocon",
         "line": {
          "color": "#ab63fa",
          "dash": "solid"
         },
         "marker": {
          "symbol": "circle"
         },
         "mode": "lines",
         "name": "Ocon",
         "r": [
          6,
          19,
          20,
          10,
          6
         ],
         "showlegend": true,
         "subplot": "polar",
         "theta": [
          "2017",
          "2018",
          "2021",
          "2022",
          "2017"
         ],
         "type": "scatterpolar"
        },
        {
         "hovertemplate": "surname=Magnussen<br>positionOrder=%{r}<br>year_str=%{theta}<extra></extra>",
         "legendgroup": "Magnussen",
         "line": {
          "color": "#FFA15A",
          "dash": "solid"
         },
         "marker": {
          "symbol": "circle"
         },
         "mode": "lines",
         "name": "Magnussen",
         "r": [
          7,
          13,
          13,
          17,
          7
         ],
         "showlegend": true,
         "subplot": "polar",
         "theta": [
          "2017",
          "2018",
          "2019",
          "2022",
          "2017"
         ],
         "type": "scatterpolar"
        },
        {
         "hovertemplate": "surname=Sainz<br>positionOrder=%{r}<br>year_str=%{theta}<extra></extra>",
         "legendgroup": "Sainz",
         "line": {
          "color": "#19d3f3",
          "dash": "solid"
         },
         "marker": {
          "symbol": "circle"
         },
         "mode": "lines",
         "name": "Sainz",
         "r": [
          8,
          5,
          7,
          8,
          20,
          8
         ],
         "showlegend": true,
         "subplot": "polar",
         "theta": [
          "2017",
          "2018",
          "2019",
          "2021",
          "2022",
          "2017"
         ],
         "type": "scatterpolar"
        },
        {
         "hovertemplate": "surname=Alonso<br>positionOrder=%{r}<br>year_str=%{theta}<extra></extra>",
         "legendgroup": "Alonso",
         "line": {
          "color": "#FF6692",
          "dash": "solid"
         },
         "marker": {
          "symbol": "circle"
         },
         "mode": "lines",
         "name": "Alonso",
         "r": [
          9,
          7,
          6,
          7,
          9
         ],
         "showlegend": true,
         "subplot": "polar",
         "theta": [
          "2017",
          "2018",
          "2021",
          "2022",
          "2017"
         ],
         "type": "scatterpolar"
        },
        {
         "hovertemplate": "surname=Pérez<br>positionOrder=%{r}<br>year_str=%{theta}<extra></extra>",
         "legendgroup": "Pérez",
         "line": {
          "color": "#B6E880",
          "dash": "solid"
         },
         "marker": {
          "symbol": "circle"
         },
         "mode": "lines",
         "name": "Pérez",
         "r": [
          15,
          3,
          6,
          1,
          2,
          15
         ],
         "showlegend": true,
         "subplot": "polar",
         "theta": [
          "2017",
          "2018",
          "2019",
          "2021",
          "2022",
          "2017"
         ],
         "type": "scatterpolar"
        },
        {
         "hovertemplate": "surname=Hülkenberg<br>positionOrder=%{r}<br>year_str=%{theta}<extra></extra>",
         "legendgroup": "Hülkenberg",
         "line": {
          "color": "#FF97FF",
          "dash": "solid"
         },
         "marker": {
          "symbol": "circle"
         },
         "mode": "lines",
         "name": "Hülkenberg",
         "r": [
          17,
          18,
          14,
          17
         ],
         "showlegend": true,
         "subplot": "polar",
         "theta": [
          "2017",
          "2018",
          "2019",
          "2017"
         ],
         "type": "scatterpolar"
        },
        {
         "hovertemplate": "surname=Verstappen<br>positionOrder=%{r}<br>year_str=%{theta}<extra></extra>",
         "legendgroup": "Verstappen",
         "line": {
          "color": "#FECB52",
          "dash": "solid"
         },
         "marker": {
          "symbol": "circle"
         },
         "mode": "lines",
         "name": "Verstappen",
         "r": [
          18,
          16,
          4,
          18,
          1,
          18
         ],
         "showlegend": true,
         "subplot": "polar",
         "theta": [
          "2017",
          "2018",
          "2019",
          "2021",
          "2022",
          "2017"
         ],
         "type": "scatterpolar"
        },
        {
         "hovertemplate": "surname=Leclerc<br>positionOrder=%{r}<br>year_str=%{theta}<extra></extra>",
         "legendgroup": "Leclerc",
         "line": {
          "color": "#636efa",
          "dash": "solid"
         },
         "marker": {
          "symbol": "circle"
         },
         "mode": "lines",
         "name": "Leclerc",
         "r": [
          6,
          5,
          4,
          19,
          6
         ],
         "showlegend": true,
         "subplot": "polar",
         "theta": [
          "2018",
          "2019",
          "2021",
          "2022",
          "2018"
         ],
         "type": "scatterpolar"
        },
        {
         "hovertemplate": "surname=Gasly<br>positionOrder=%{r}<br>year_str=%{theta}<extra></extra>",
         "legendgroup": "Gasly",
         "line": {
          "color": "#EF553B",
          "dash": "solid"
         },
         "marker": {
          "symbol": "circle"
         },
         "mode": "lines",
         "name": "Gasly",
         "r": [
          12,
          17,
          3,
          5,
          12
         ],
         "showlegend": true,
         "subplot": "polar",
         "theta": [
          "2018",
          "2019",
          "2021",
          "2022",
          "2018"
         ],
         "type": "scatterpolar"
        },
        {
         "hovertemplate": "surname=Norris<br>positionOrder=%{r}<br>year_str=%{theta}<extra></extra>",
         "legendgroup": "Norris",
         "line": {
          "color": "#00cc96",
          "dash": "solid"
         },
         "marker": {
          "symbol": "circle"
         },
         "mode": "lines",
         "name": "Norris",
         "r": [
          8,
          5,
          9,
          8
         ],
         "showlegend": true,
         "subplot": "polar",
         "theta": [
          "2019",
          "2021",
          "2022",
          "2019"
         ],
         "type": "scatterpolar"
        },
        {
         "hovertemplate": "surname=Albon<br>positionOrder=%{r}<br>year_str=%{theta}<extra></extra>",
         "legendgroup": "Albon",
         "line": {
          "color": "#ab63fa",
          "dash": "solid"
         },
         "marker": {
          "symbol": "circle"
         },
         "mode": "lines",
         "name": "Albon",
         "r": [
          11,
          12,
          11
         ],
         "showlegend": true,
         "subplot": "polar",
         "theta": [
          "2019",
          "2022",
          "2019"
         ],
         "type": "scatterpolar"
        },
        {
         "hovertemplate": "surname=Russell<br>positionOrder=%{r}<br>year_str=%{theta}<extra></extra>",
         "legendgroup": "Russell",
         "line": {
          "color": "#FFA15A",
          "dash": "solid"
         },
         "marker": {
          "symbol": "circle"
         },
         "mode": "lines",
         "name": "Russell",
         "r": [
          15,
          17,
          3,
          15
         ],
         "showlegend": true,
         "subplot": "polar",
         "theta": [
          "2019",
          "2021",
          "2022",
          "2019"
         ],
         "type": "scatterpolar"
        },
        {
         "hovertemplate": "surname=Tsunoda<br>positionOrder=%{r}<br>year_str=%{theta}<extra></extra>",
         "legendgroup": "Tsunoda",
         "line": {
          "color": "#19d3f3",
          "dash": "solid"
         },
         "marker": {
          "symbol": "circle"
         },
         "mode": "lines",
         "name": "Tsunoda",
         "r": [
          7,
          13,
          7
         ],
         "showlegend": true,
         "subplot": "polar",
         "theta": [
          "2021",
          "2022",
          "2021"
         ],
         "type": "scatterpolar"
        },
        {
         "hovertemplate": "surname=Zhou<br>positionOrder=%{r}<br>year_str=%{theta}<extra></extra>",
         "legendgroup": "Zhou",
         "line": {
          "color": "#FF6692",
          "dash": "solid"
         },
         "marker": {
          "symbol": "circle"
         },
         "mode": "lines",
         "name": "Zhou",
         "r": [
          18,
          18
         ],
         "showlegend": true,
         "subplot": "polar",
         "theta": [
          "2022",
          "2022"
         ],
         "type": "scatterpolar"
        }
       ],
       "layout": {
        "height": 500,
        "legend": {
         "title": {
          "text": "surname"
         },
         "tracegroupgap": 0
        },
        "polar": {
         "angularaxis": {
          "direction": "clockwise",
          "rotation": 90
         },
         "domain": {
          "x": [
           0,
           1
          ],
          "y": [
           0,
           1
          ]
         }
        },
        "template": {
         "data": {
          "bar": [
           {
            "error_x": {
             "color": "#2a3f5f"
            },
            "error_y": {
             "color": "#2a3f5f"
            },
            "marker": {
             "line": {
              "color": "#E5ECF6",
              "width": 0.5
             },
             "pattern": {
              "fillmode": "overlay",
              "size": 10,
              "solidity": 0.2
             }
            },
            "type": "bar"
           }
          ],
          "barpolar": [
           {
            "marker": {
             "line": {
              "color": "#E5ECF6",
              "width": 0.5
             },
             "pattern": {
              "fillmode": "overlay",
              "size": 10,
              "solidity": 0.2
             }
            },
            "type": "barpolar"
           }
          ],
          "carpet": [
           {
            "aaxis": {
             "endlinecolor": "#2a3f5f",
             "gridcolor": "white",
             "linecolor": "white",
             "minorgridcolor": "white",
             "startlinecolor": "#2a3f5f"
            },
            "baxis": {
             "endlinecolor": "#2a3f5f",
             "gridcolor": "white",
             "linecolor": "white",
             "minorgridcolor": "white",
             "startlinecolor": "#2a3f5f"
            },
            "type": "carpet"
           }
          ],
          "choropleth": [
           {
            "colorbar": {
             "outlinewidth": 0,
             "ticks": ""
            },
            "type": "choropleth"
           }
          ],
          "contour": [
           {
            "colorbar": {
             "outlinewidth": 0,
             "ticks": ""
            },
            "colorscale": [
             [
              0,
              "#0d0887"
             ],
             [
              0.1111111111111111,
              "#46039f"
             ],
             [
              0.2222222222222222,
              "#7201a8"
             ],
             [
              0.3333333333333333,
              "#9c179e"
             ],
             [
              0.4444444444444444,
              "#bd3786"
             ],
             [
              0.5555555555555556,
              "#d8576b"
             ],
             [
              0.6666666666666666,
              "#ed7953"
             ],
             [
              0.7777777777777778,
              "#fb9f3a"
             ],
             [
              0.8888888888888888,
              "#fdca26"
             ],
             [
              1,
              "#f0f921"
             ]
            ],
            "type": "contour"
           }
          ],
          "contourcarpet": [
           {
            "colorbar": {
             "outlinewidth": 0,
             "ticks": ""
            },
            "type": "contourcarpet"
           }
          ],
          "heatmap": [
           {
            "colorbar": {
             "outlinewidth": 0,
             "ticks": ""
            },
            "colorscale": [
             [
              0,
              "#0d0887"
             ],
             [
              0.1111111111111111,
              "#46039f"
             ],
             [
              0.2222222222222222,
              "#7201a8"
             ],
             [
              0.3333333333333333,
              "#9c179e"
             ],
             [
              0.4444444444444444,
              "#bd3786"
             ],
             [
              0.5555555555555556,
              "#d8576b"
             ],
             [
              0.6666666666666666,
              "#ed7953"
             ],
             [
              0.7777777777777778,
              "#fb9f3a"
             ],
             [
              0.8888888888888888,
              "#fdca26"
             ],
             [
              1,
              "#f0f921"
             ]
            ],
            "type": "heatmap"
           }
          ],
          "heatmapgl": [
           {
            "colorbar": {
             "outlinewidth": 0,
             "ticks": ""
            },
            "colorscale": [
             [
              0,
              "#0d0887"
             ],
             [
              0.1111111111111111,
              "#46039f"
             ],
             [
              0.2222222222222222,
              "#7201a8"
             ],
             [
              0.3333333333333333,
              "#9c179e"
             ],
             [
              0.4444444444444444,
              "#bd3786"
             ],
             [
              0.5555555555555556,
              "#d8576b"
             ],
             [
              0.6666666666666666,
              "#ed7953"
             ],
             [
              0.7777777777777778,
              "#fb9f3a"
             ],
             [
              0.8888888888888888,
              "#fdca26"
             ],
             [
              1,
              "#f0f921"
             ]
            ],
            "type": "heatmapgl"
           }
          ],
          "histogram": [
           {
            "marker": {
             "pattern": {
              "fillmode": "overlay",
              "size": 10,
              "solidity": 0.2
             }
            },
            "type": "histogram"
           }
          ],
          "histogram2d": [
           {
            "colorbar": {
             "outlinewidth": 0,
             "ticks": ""
            },
            "colorscale": [
             [
              0,
              "#0d0887"
             ],
             [
              0.1111111111111111,
              "#46039f"
             ],
             [
              0.2222222222222222,
              "#7201a8"
             ],
             [
              0.3333333333333333,
              "#9c179e"
             ],
             [
              0.4444444444444444,
              "#bd3786"
             ],
             [
              0.5555555555555556,
              "#d8576b"
             ],
             [
              0.6666666666666666,
              "#ed7953"
             ],
             [
              0.7777777777777778,
              "#fb9f3a"
             ],
             [
              0.8888888888888888,
              "#fdca26"
             ],
             [
              1,
              "#f0f921"
             ]
            ],
            "type": "histogram2d"
           }
          ],
          "histogram2dcontour": [
           {
            "colorbar": {
             "outlinewidth": 0,
             "ticks": ""
            },
            "colorscale": [
             [
              0,
              "#0d0887"
             ],
             [
              0.1111111111111111,
              "#46039f"
             ],
             [
              0.2222222222222222,
              "#7201a8"
             ],
             [
              0.3333333333333333,
              "#9c179e"
             ],
             [
              0.4444444444444444,
              "#bd3786"
             ],
             [
              0.5555555555555556,
              "#d8576b"
             ],
             [
              0.6666666666666666,
              "#ed7953"
             ],
             [
              0.7777777777777778,
              "#fb9f3a"
             ],
             [
              0.8888888888888888,
              "#fdca26"
             ],
             [
              1,
              "#f0f921"
             ]
            ],
            "type": "histogram2dcontour"
           }
          ],
          "mesh3d": [
           {
            "colorbar": {
             "outlinewidth": 0,
             "ticks": ""
            },
            "type": "mesh3d"
           }
          ],
          "parcoords": [
           {
            "line": {
             "colorbar": {
              "outlinewidth": 0,
              "ticks": ""
             }
            },
            "type": "parcoords"
           }
          ],
          "pie": [
           {
            "automargin": true,
            "type": "pie"
           }
          ],
          "scatter": [
           {
            "fillpattern": {
             "fillmode": "overlay",
             "size": 10,
             "solidity": 0.2
            },
            "type": "scatter"
           }
          ],
          "scatter3d": [
           {
            "line": {
             "colorbar": {
              "outlinewidth": 0,
              "ticks": ""
             }
            },
            "marker": {
             "colorbar": {
              "outlinewidth": 0,
              "ticks": ""
             }
            },
            "type": "scatter3d"
           }
          ],
          "scattercarpet": [
           {
            "marker": {
             "colorbar": {
              "outlinewidth": 0,
              "ticks": ""
             }
            },
            "type": "scattercarpet"
           }
          ],
          "scattergeo": [
           {
            "marker": {
             "colorbar": {
              "outlinewidth": 0,
              "ticks": ""
             }
            },
            "type": "scattergeo"
           }
          ],
          "scattergl": [
           {
            "marker": {
             "colorbar": {
              "outlinewidth": 0,
              "ticks": ""
             }
            },
            "type": "scattergl"
           }
          ],
          "scattermapbox": [
           {
            "marker": {
             "colorbar": {
              "outlinewidth": 0,
              "ticks": ""
             }
            },
            "type": "scattermapbox"
           }
          ],
          "scatterpolar": [
           {
            "marker": {
             "colorbar": {
              "outlinewidth": 0,
              "ticks": ""
             }
            },
            "type": "scatterpolar"
           }
          ],
          "scatterpolargl": [
           {
            "marker": {
             "colorbar": {
              "outlinewidth": 0,
              "ticks": ""
             }
            },
            "type": "scatterpolargl"
           }
          ],
          "scatterternary": [
           {
            "marker": {
             "colorbar": {
              "outlinewidth": 0,
              "ticks": ""
             }
            },
            "type": "scatterternary"
           }
          ],
          "surface": [
           {
            "colorbar": {
             "outlinewidth": 0,
             "ticks": ""
            },
            "colorscale": [
             [
              0,
              "#0d0887"
             ],
             [
              0.1111111111111111,
              "#46039f"
             ],
             [
              0.2222222222222222,
              "#7201a8"
             ],
             [
              0.3333333333333333,
              "#9c179e"
             ],
             [
              0.4444444444444444,
              "#bd3786"
             ],
             [
              0.5555555555555556,
              "#d8576b"
             ],
             [
              0.6666666666666666,
              "#ed7953"
             ],
             [
              0.7777777777777778,
              "#fb9f3a"
             ],
             [
              0.8888888888888888,
              "#fdca26"
             ],
             [
              1,
              "#f0f921"
             ]
            ],
            "type": "surface"
           }
          ],
          "table": [
           {
            "cells": {
             "fill": {
              "color": "#EBF0F8"
             },
             "line": {
              "color": "white"
             }
            },
            "header": {
             "fill": {
              "color": "#C8D4E3"
             },
             "line": {
              "color": "white"
             }
            },
            "type": "table"
           }
          ]
         },
         "layout": {
          "annotationdefaults": {
           "arrowcolor": "#2a3f5f",
           "arrowhead": 0,
           "arrowwidth": 1
          },
          "autotypenumbers": "strict",
          "coloraxis": {
           "colorbar": {
            "outlinewidth": 0,
            "ticks": ""
           }
          },
          "colorscale": {
           "diverging": [
            [
             0,
             "#8e0152"
            ],
            [
             0.1,
             "#c51b7d"
            ],
            [
             0.2,
             "#de77ae"
            ],
            [
             0.3,
             "#f1b6da"
            ],
            [
             0.4,
             "#fde0ef"
            ],
            [
             0.5,
             "#f7f7f7"
            ],
            [
             0.6,
             "#e6f5d0"
            ],
            [
             0.7,
             "#b8e186"
            ],
            [
             0.8,
             "#7fbc41"
            ],
            [
             0.9,
             "#4d9221"
            ],
            [
             1,
             "#276419"
            ]
           ],
           "sequential": [
            [
             0,
             "#0d0887"
            ],
            [
             0.1111111111111111,
             "#46039f"
            ],
            [
             0.2222222222222222,
             "#7201a8"
            ],
            [
             0.3333333333333333,
             "#9c179e"
            ],
            [
             0.4444444444444444,
             "#bd3786"
            ],
            [
             0.5555555555555556,
             "#d8576b"
            ],
            [
             0.6666666666666666,
             "#ed7953"
            ],
            [
             0.7777777777777778,
             "#fb9f3a"
            ],
            [
             0.8888888888888888,
             "#fdca26"
            ],
            [
             1,
             "#f0f921"
            ]
           ],
           "sequentialminus": [
            [
             0,
             "#0d0887"
            ],
            [
             0.1111111111111111,
             "#46039f"
            ],
            [
             0.2222222222222222,
             "#7201a8"
            ],
            [
             0.3333333333333333,
             "#9c179e"
            ],
            [
             0.4444444444444444,
             "#bd3786"
            ],
            [
             0.5555555555555556,
             "#d8576b"
            ],
            [
             0.6666666666666666,
             "#ed7953"
            ],
            [
             0.7777777777777778,
             "#fb9f3a"
            ],
            [
             0.8888888888888888,
             "#fdca26"
            ],
            [
             1,
             "#f0f921"
            ]
           ]
          },
          "colorway": [
           "#636efa",
           "#EF553B",
           "#00cc96",
           "#ab63fa",
           "#FFA15A",
           "#19d3f3",
           "#FF6692",
           "#B6E880",
           "#FF97FF",
           "#FECB52"
          ],
          "font": {
           "color": "#2a3f5f"
          },
          "geo": {
           "bgcolor": "white",
           "lakecolor": "white",
           "landcolor": "#E5ECF6",
           "showlakes": true,
           "showland": true,
           "subunitcolor": "white"
          },
          "hoverlabel": {
           "align": "left"
          },
          "hovermode": "closest",
          "mapbox": {
           "style": "light"
          },
          "paper_bgcolor": "white",
          "plot_bgcolor": "#E5ECF6",
          "polar": {
           "angularaxis": {
            "gridcolor": "white",
            "linecolor": "white",
            "ticks": ""
           },
           "bgcolor": "#E5ECF6",
           "radialaxis": {
            "gridcolor": "white",
            "linecolor": "white",
            "ticks": ""
           }
          },
          "scene": {
           "xaxis": {
            "backgroundcolor": "#E5ECF6",
            "gridcolor": "white",
            "gridwidth": 2,
            "linecolor": "white",
            "showbackground": true,
            "ticks": "",
            "zerolinecolor": "white"
           },
           "yaxis": {
            "backgroundcolor": "#E5ECF6",
            "gridcolor": "white",
            "gridwidth": 2,
            "linecolor": "white",
            "showbackground": true,
            "ticks": "",
            "zerolinecolor": "white"
           },
           "zaxis": {
            "backgroundcolor": "#E5ECF6",
            "gridcolor": "white",
            "gridwidth": 2,
            "linecolor": "white",
            "showbackground": true,
            "ticks": "",
            "zerolinecolor": "white"
           }
          },
          "shapedefaults": {
           "line": {
            "color": "#2a3f5f"
           }
          },
          "ternary": {
           "aaxis": {
            "gridcolor": "white",
            "linecolor": "white",
            "ticks": ""
           },
           "baxis": {
            "gridcolor": "white",
            "linecolor": "white",
            "ticks": ""
           },
           "bgcolor": "#E5ECF6",
           "caxis": {
            "gridcolor": "white",
            "linecolor": "white",
            "ticks": ""
           }
          },
          "title": {
           "x": 0.05
          },
          "xaxis": {
           "automargin": true,
           "gridcolor": "white",
           "linecolor": "white",
           "ticks": "",
           "title": {
            "standoff": 15
           },
           "zerolinecolor": "white",
           "zerolinewidth": 2
          },
          "yaxis": {
           "automargin": true,
           "gridcolor": "white",
           "linecolor": "white",
           "ticks": "",
           "title": {
            "standoff": 15
           },
           "zerolinecolor": "white",
           "zerolinewidth": 2
          }
         }
        },
        "title": {
         "text": "Polar seasonal plot"
        },
        "width": 600
       }
      }
     },
     "metadata": {},
     "output_type": "display_data"
    }
   ],
   "source": [
    "fig = px.line_polar(results_Baku ,r='positionOrder', theta= 'year_str', \n",
    "                    color = 'surname', line_close=True, \n",
    "                    title='Polar seasonal plot',\n",
    "                    width=600, height=500)\n",
    "fig.show()"
   ]
  },
  {
   "attachments": {},
   "cell_type": "markdown",
   "metadata": {},
   "source": [
    "## III. Results\n",
    "\n",
    "From the pervious aggregate statistics table we understand that grid positions are positivly related to the final rank. Intuitively this should make sense, it is rarely possible for drivers starting from 10-20 grids to surpass all the drivers in the front, while the front drivers are prone to win the race.\n",
    "\n",
    "Taking a look at the polar graph. The way we can interpret this graph is through examining the area that the dots connect. If the overall area  for a particular player is small, meaning that the dots are clustered around the center and that he/she earned relatively lower grid positions, it is very likely that he/she is going to win the race in 2023 Azerbaijan Grand Prix. However, technically, it is not necessary to precisely calculate the area for each player since the visualization is clear enough through naked eyes. On a side note, if a player participated in just 1 or 2 races, his/her area is simply a dot or a line, which might result in insensible interpretation if we are simply looking at the area. Thus, the other parameter we should take into consideration is the sample size. Due to the fact that only 5 races were ever held in Azerbaijan, we are really limited in the number of observations that we have. To get around this problem, it would be reasonable to expect a higher percentage of winning for a driver who contested higher times with a bigger area than a driver who contested once or twice but a lower grid position.\n",
    "\n",
    "Finally, an interesting phenomenon occurs when looking at Max Verstappen's grid positions dataset. His grid positon is always at the very back. Mr.Verstappen is considered one of the most skillful drivers, especially for the year 2023 as Team Red Bull is very competitive. The reason for this to occur is due to engine penalty. \n",
    "\n",
    "\"The first time an additional element is used, the driver gets a 10-place grid penalty. The next time an additional element is used, the driver gets a five-place grid penalty. If a driver incurs a penalty exceeding 15 grid places, they will be required to start the race at the back.\"(https://www.formula1.com/en/latest/article.how-do-f1-engine-penalties-work.7aLmj23MgHiv9Rin48ROrY.html)\n",
    "\n",
    "A quotation from the official F1 website explains that the possible reason for some drivers to start at the back is due to carraige of extra engines. The team feels confident that the disadvantage of starting at the back could be remedied by the extra engine and the performance of the drivers. However, this situation occurs rarely. The discussion of extra engines on the performance of drivers is another topic beyond the scope of this project, but it is something to keep in mind."
   ]
  },
  {
   "attachments": {},
   "cell_type": "markdown",
   "metadata": {},
   "source": [
    "## IV. Discussion\n",
    "\n",
    "In conclusion, based on the graph above, we come to the conclusion that grid positions are positivly related to the final rank.\n",
    "For the upcoming 2023 Azerbaijan Grand Prix, we infer that Lewis Hamilton, Lando Norris, Sergio Pérez, are the most notable driver who is going to get the first position.\n",
    "\n"
   ]
  }
 ],
 "metadata": {
  "kernelspec": {
   "display_name": "Python 3",
   "language": "python",
   "name": "python3"
  },
  "language_info": {
   "codemirror_mode": {
    "name": "ipython",
    "version": 3
   },
   "file_extension": ".py",
   "mimetype": "text/x-python",
   "name": "python",
   "nbconvert_exporter": "python",
   "pygments_lexer": "ipython3",
   "version": "3.11.1"
  },
  "orig_nbformat": 4,
  "vscode": {
   "interpreter": {
    "hash": "aee8b7b246df8f9039afb4144a1f6fd8d2ca17a180786b69acc140d282b71a49"
   }
  }
 },
 "nbformat": 4,
 "nbformat_minor": 2
}
