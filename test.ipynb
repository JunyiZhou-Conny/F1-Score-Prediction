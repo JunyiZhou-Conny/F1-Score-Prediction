{
 "cells": [
  {
   "cell_type": "code",
   "execution_count": 1,
   "metadata": {},
   "outputs": [],
   "source": [
    "import pandas as pd\n",
    "import matplotlib.pyplot as plt\n",
    "import numpy as np\n",
    "import plotly.express as px"
   ]
  },
  {
   "cell_type": "code",
   "execution_count": 2,
   "metadata": {},
   "outputs": [],
   "source": [
    "drivers = pd.read_csv(\"data_raw/drivers.csv\")\n",
    "results = pd.read_csv(\"data_raw/results.csv\")\n",
    "races = pd.read_csv(\"data_raw/races.csv\")"
   ]
  },
  {
   "cell_type": "code",
   "execution_count": 3,
   "metadata": {},
   "outputs": [],
   "source": [
    "drivers_2023 = drivers.query(\"(surname == 'Verstappen' and forename == 'Max') or \\\n",
    "                             (surname == 'Pérez' and forename == 'Sergio') or \\\n",
    "                             (surname == 'Alonso' and forename == 'Fernando') or \\\n",
    "                             (surname == 'Stroll' and forename == 'Lance') or \\\n",
    "                             (surname == 'Russell' and forename == 'George') or \\\n",
    "                             (surname == 'Hamilton' and forename == 'Lewis') or \\\n",
    "                             (surname == 'Leclerc' and forename == 'Charles') or \\\n",
    "                             (surname == 'Sainz' and forename == 'Carlos') or \\\n",
    "                             (surname == 'Piastri' and forename == 'Oscar') or \\\n",
    "                             (surname == 'Norris' and forename == 'Lando') or \\\n",
    "                             (surname == 'Ocon' and forename == 'Esteban') or \\\n",
    "                             (surname == 'Gasly' and forename == 'Pierre') or \\\n",
    "                             (surname == 'Hülkenberg' and forename == 'Nico') or \\\n",
    "                             (surname == 'Magnussen' and forename == 'Kevin') or \\\n",
    "                             (surname == 'Zhou' and forename == 'Guanyu') or \\\n",
    "                             (surname == 'Bottas' and forename == 'Valtteri') or \\\n",
    "                             (surname == 'de Vries' and forename == 'Nyck') or \\\n",
    "                             (surname == 'Tsunoda' and forename == 'Yuki') or \\\n",
    "                             (surname == 'Sargeant' and forename == 'Logan') or \\\n",
    "                             (surname == 'Albon' and forename == 'Alexander')\")"
   ]
  },
  {
   "cell_type": "code",
   "execution_count": 18,
   "metadata": {},
   "outputs": [],
   "source": [
    "##Predict the outcome in the forthcoming 4/30 Azerbaijan Grand Prix based on pervious performance\n",
    "##Extract past competitions with the following commonality:\n",
    "##Circuit ID: 73, Baku, Azerbaijan\n",
    "##Driver ID: 20 drivers in 2023\n",
    "series_drId = drivers_2023[\"driverId\"]\n",
    "vec_drId = np.array(series_drId.values)\n",
    "races_Monaco = races.query(\"circuitId == 6\")\n",
    "series_race = races_Monaco[\"raceId\"]\n",
    "vec_race = np.array(series_race.values)\n",
    "vec_race_str = ','.join(map(str, vec_race))\n",
    "\n",
    "\n",
    "results_Monaco = (results[results['driverId'].isin(vec_drId)]).query(f\"raceId in ({vec_race_str})\")\n",
    "##merge the data with races on raceId\n",
    "results_Monaco = pd.merge(races, results_Monaco, on='raceId')\n",
    "##define a new column year in string format\n",
    "results_Monaco['year_str'] = results_Monaco['year'].astype(str)"
   ]
  },
  {
   "cell_type": "code",
   "execution_count": 20,
   "metadata": {},
   "outputs": [
    {
     "data": {
      "application/vnd.plotly.v1+json": {
       "config": {
        "plotlyServerURL": "https://plot.ly"
       },
       "data": [
        {
         "hovertemplate": "driverId=4<br>positionOrder=%{r}<br>year_str=%{theta}<extra></extra>",
         "legendgroup": "4",
         "line": {
          "color": "#636efa",
          "dash": "solid"
         },
         "marker": {
          "symbol": "circle"
         },
         "mode": "lines",
         "name": "4",
         "r": [
          7,
          10,
          1,
          1,
          4,
          12,
          5,
          13,
          6,
          2,
          3,
          7,
          4,
          19,
          5,
          20,
          13,
          7
         ],
         "showlegend": true,
         "subplot": "polar",
         "theta": [
          "2009",
          "2008",
          "2007",
          "2006",
          "2005",
          "2004",
          "2003",
          "2001",
          "2010",
          "2011",
          "2012",
          "2013",
          "2014",
          "2015",
          "2016",
          "2018",
          "2021",
          "2022"
         ],
         "type": "scatterpolar"
        },
        {
         "hovertemplate": "driverId=1<br>positionOrder=%{r}<br>year_str=%{theta}<extra></extra>",
         "legendgroup": "1",
         "line": {
          "color": "#EF553B",
          "dash": "solid"
         },
         "marker": {
          "symbol": "circle"
         },
         "mode": "lines",
         "name": "1",
         "r": [
          12,
          1,
          2,
          5,
          6,
          5,
          4,
          2,
          3,
          1,
          7,
          3,
          1,
          7,
          8
         ],
         "showlegend": true,
         "subplot": "polar",
         "theta": [
          "2009",
          "2008",
          "2007",
          "2010",
          "2011",
          "2012",
          "2013",
          "2014",
          "2015",
          "2016",
          "2017",
          "2018",
          "2019",
          "2021",
          "2022"
         ],
         "type": "scatterpolar"
        },
        {
         "hovertemplate": "driverId=807<br>positionOrder=%{r}<br>year_str=%{theta}<extra></extra>",
         "legendgroup": "807",
         "line": {
          "color": "#00cc96",
          "dash": "solid"
         },
         "marker": {
          "symbol": "circle"
         },
         "mode": "lines",
         "name": "807",
         "r": [
          24,
          8,
          11,
          5,
          11,
          6,
          20,
          8,
          13
         ],
         "showlegend": true,
         "subplot": "polar",
         "theta": [
          "2010",
          "2012",
          "2013",
          "2014",
          "2015",
          "2016",
          "2017",
          "2018",
          "2019"
         ],
         "type": "scatterpolar"
        },
        {
         "hovertemplate": "driverId=815<br>positionOrder=%{r}<br>year_str=%{theta}<extra></extra>",
         "legendgroup": "815",
         "line": {
          "color": "#ab63fa",
          "dash": "solid"
         },
         "marker": {
          "symbol": "circle"
         },
         "mode": "lines",
         "name": "815",
         "r": [
          24,
          11,
          16,
          21,
          7,
          3,
          13,
          12,
          12,
          4,
          1
         ],
         "showlegend": true,
         "subplot": "polar",
         "theta": [
          "2011",
          "2012",
          "2013",
          "2014",
          "2015",
          "2016",
          "2017",
          "2018",
          "2019",
          "2021",
          "2022"
         ],
         "type": "scatterpolar"
        },
        {
         "hovertemplate": "driverId=822<br>positionOrder=%{r}<br>year_str=%{theta}<extra></extra>",
         "legendgroup": "822",
         "line": {
          "color": "#FFA15A",
          "dash": "solid"
         },
         "marker": {
          "symbol": "circle"
         },
         "mode": "lines",
         "name": "822",
         "r": [
          12,
          16,
          14,
          12,
          4,
          5,
          3,
          19,
          9
         ],
         "showlegend": true,
         "subplot": "polar",
         "theta": [
          "2013",
          "2014",
          "2015",
          "2016",
          "2017",
          "2018",
          "2019",
          "2021",
          "2022"
         ],
         "type": "scatterpolar"
        },
        {
         "hovertemplate": "driverId=825<br>positionOrder=%{r}<br>year_str=%{theta}<extra></extra>",
         "legendgroup": "825",
         "line": {
          "color": "#19d3f3",
          "dash": "solid"
         },
         "marker": {
          "symbol": "circle"
         },
         "mode": "lines",
         "name": "825",
         "r": [
          10,
          19,
          10,
          13,
          14,
          20
         ],
         "showlegend": true,
         "subplot": "polar",
         "theta": [
          "2014",
          "2016",
          "2017",
          "2018",
          "2019",
          "2022"
         ],
         "type": "scatterpolar"
        },
        {
         "hovertemplate": "driverId=832<br>positionOrder=%{r}<br>year_str=%{theta}<extra></extra>",
         "legendgroup": "832",
         "line": {
          "color": "#FF6692",
          "dash": "solid"
         },
         "marker": {
          "symbol": "circle"
         },
         "mode": "lines",
         "name": "832",
         "r": [
          10,
          8,
          6,
          10,
          6,
          2,
          2
         ],
         "showlegend": true,
         "subplot": "polar",
         "theta": [
          "2015",
          "2016",
          "2017",
          "2018",
          "2019",
          "2021",
          "2022"
         ],
         "type": "scatterpolar"
        },
        {
         "hovertemplate": "driverId=830<br>positionOrder=%{r}<br>year_str=%{theta}<extra></extra>",
         "legendgroup": "830",
         "line": {
          "color": "#B6E880",
          "dash": "solid"
         },
         "marker": {
          "symbol": "circle"
         },
         "mode": "lines",
         "name": "830",
         "r": [
          18,
          18,
          5,
          9,
          4,
          1,
          3
         ],
         "showlegend": true,
         "subplot": "polar",
         "theta": [
          "2015",
          "2016",
          "2017",
          "2018",
          "2019",
          "2021",
          "2022"
         ],
         "type": "scatterpolar"
        },
        {
         "hovertemplate": "driverId=839<br>positionOrder=%{r}<br>year_str=%{theta}<extra></extra>",
         "legendgroup": "839",
         "line": {
          "color": "#FF97FF",
          "dash": "solid"
         },
         "marker": {
          "symbol": "circle"
         },
         "mode": "lines",
         "name": "839",
         "r": [
          12,
          6,
          9,
          12
         ],
         "showlegend": true,
         "subplot": "polar",
         "theta": [
          "2017",
          "2018",
          "2021",
          "2022"
         ],
         "type": "scatterpolar"
        },
        {
         "hovertemplate": "driverId=840<br>positionOrder=%{r}<br>year_str=%{theta}<extra></extra>",
         "legendgroup": "840",
         "line": {
          "color": "#FECB52",
          "dash": "solid"
         },
         "marker": {
          "symbol": "circle"
         },
         "mode": "lines",
         "name": "840",
         "r": [
          15,
          17,
          16,
          8,
          14
         ],
         "showlegend": true,
         "subplot": "polar",
         "theta": [
          "2017",
          "2018",
          "2019",
          "2021",
          "2022"
         ],
         "type": "scatterpolar"
        },
        {
         "hovertemplate": "driverId=842<br>positionOrder=%{r}<br>year_str=%{theta}<extra></extra>",
         "legendgroup": "842",
         "line": {
          "color": "#636efa",
          "dash": "solid"
         },
         "marker": {
          "symbol": "circle"
         },
         "mode": "lines",
         "name": "842",
         "r": [
          7,
          5,
          6,
          11
         ],
         "showlegend": true,
         "subplot": "polar",
         "theta": [
          "2018",
          "2019",
          "2021",
          "2022"
         ],
         "type": "scatterpolar"
        },
        {
         "hovertemplate": "driverId=844<br>positionOrder=%{r}<br>year_str=%{theta}<extra></extra>",
         "legendgroup": "844",
         "line": {
          "color": "#EF553B",
          "dash": "solid"
         },
         "marker": {
          "symbol": "circle"
         },
         "mode": "lines",
         "name": "844",
         "r": [
          18,
          20,
          20,
          4
         ],
         "showlegend": true,
         "subplot": "polar",
         "theta": [
          "2018",
          "2019",
          "2021",
          "2022"
         ],
         "type": "scatterpolar"
        },
        {
         "hovertemplate": "driverId=848<br>positionOrder=%{r}<br>year_str=%{theta}<extra></extra>",
         "legendgroup": "848",
         "line": {
          "color": "#00cc96",
          "dash": "solid"
         },
         "marker": {
          "symbol": "circle"
         },
         "mode": "lines",
         "name": "848",
         "r": [
          8,
          18
         ],
         "showlegend": true,
         "subplot": "polar",
         "theta": [
          "2019",
          "2022"
         ],
         "type": "scatterpolar"
        },
        {
         "hovertemplate": "driverId=846<br>positionOrder=%{r}<br>year_str=%{theta}<extra></extra>",
         "legendgroup": "846",
         "line": {
          "color": "#ab63fa",
          "dash": "solid"
         },
         "marker": {
          "symbol": "circle"
         },
         "mode": "lines",
         "name": "846",
         "r": [
          11,
          3,
          6
         ],
         "showlegend": true,
         "subplot": "polar",
         "theta": [
          "2019",
          "2021",
          "2022"
         ],
         "type": "scatterpolar"
        },
        {
         "hovertemplate": "driverId=847<br>positionOrder=%{r}<br>year_str=%{theta}<extra></extra>",
         "legendgroup": "847",
         "line": {
          "color": "#FFA15A",
          "dash": "solid"
         },
         "marker": {
          "symbol": "circle"
         },
         "mode": "lines",
         "name": "847",
         "r": [
          15,
          14,
          5
         ],
         "showlegend": true,
         "subplot": "polar",
         "theta": [
          "2019",
          "2021",
          "2022"
         ],
         "type": "scatterpolar"
        },
        {
         "hovertemplate": "driverId=852<br>positionOrder=%{r}<br>year_str=%{theta}<extra></extra>",
         "legendgroup": "852",
         "line": {
          "color": "#19d3f3",
          "dash": "solid"
         },
         "marker": {
          "symbol": "circle"
         },
         "mode": "lines",
         "name": "852",
         "r": [
          16,
          17
         ],
         "showlegend": true,
         "subplot": "polar",
         "theta": [
          "2021",
          "2022"
         ],
         "type": "scatterpolar"
        },
        {
         "hovertemplate": "driverId=855<br>positionOrder=%{r}<br>year_str=%{theta}<extra></extra>",
         "legendgroup": "855",
         "line": {
          "color": "#FF6692",
          "dash": "solid"
         },
         "marker": {
          "symbol": "circle"
         },
         "mode": "lines",
         "name": "855",
         "r": [
          16
         ],
         "showlegend": true,
         "subplot": "polar",
         "theta": [
          "2022"
         ],
         "type": "scatterpolar"
        }
       ],
       "layout": {
        "height": 500,
        "legend": {
         "title": {
          "text": "driverId"
         },
         "tracegroupgap": 0
        },
        "polar": {
         "angularaxis": {
          "direction": "clockwise",
          "rotation": 90
         },
         "domain": {
          "x": [
           0,
           1
          ],
          "y": [
           0,
           1
          ]
         }
        },
        "template": {
         "data": {
          "bar": [
           {
            "error_x": {
             "color": "#2a3f5f"
            },
            "error_y": {
             "color": "#2a3f5f"
            },
            "marker": {
             "line": {
              "color": "#E5ECF6",
              "width": 0.5
             },
             "pattern": {
              "fillmode": "overlay",
              "size": 10,
              "solidity": 0.2
             }
            },
            "type": "bar"
           }
          ],
          "barpolar": [
           {
            "marker": {
             "line": {
              "color": "#E5ECF6",
              "width": 0.5
             },
             "pattern": {
              "fillmode": "overlay",
              "size": 10,
              "solidity": 0.2
             }
            },
            "type": "barpolar"
           }
          ],
          "carpet": [
           {
            "aaxis": {
             "endlinecolor": "#2a3f5f",
             "gridcolor": "white",
             "linecolor": "white",
             "minorgridcolor": "white",
             "startlinecolor": "#2a3f5f"
            },
            "baxis": {
             "endlinecolor": "#2a3f5f",
             "gridcolor": "white",
             "linecolor": "white",
             "minorgridcolor": "white",
             "startlinecolor": "#2a3f5f"
            },
            "type": "carpet"
           }
          ],
          "choropleth": [
           {
            "colorbar": {
             "outlinewidth": 0,
             "ticks": ""
            },
            "type": "choropleth"
           }
          ],
          "contour": [
           {
            "colorbar": {
             "outlinewidth": 0,
             "ticks": ""
            },
            "colorscale": [
             [
              0,
              "#0d0887"
             ],
             [
              0.1111111111111111,
              "#46039f"
             ],
             [
              0.2222222222222222,
              "#7201a8"
             ],
             [
              0.3333333333333333,
              "#9c179e"
             ],
             [
              0.4444444444444444,
              "#bd3786"
             ],
             [
              0.5555555555555556,
              "#d8576b"
             ],
             [
              0.6666666666666666,
              "#ed7953"
             ],
             [
              0.7777777777777778,
              "#fb9f3a"
             ],
             [
              0.8888888888888888,
              "#fdca26"
             ],
             [
              1,
              "#f0f921"
             ]
            ],
            "type": "contour"
           }
          ],
          "contourcarpet": [
           {
            "colorbar": {
             "outlinewidth": 0,
             "ticks": ""
            },
            "type": "contourcarpet"
           }
          ],
          "heatmap": [
           {
            "colorbar": {
             "outlinewidth": 0,
             "ticks": ""
            },
            "colorscale": [
             [
              0,
              "#0d0887"
             ],
             [
              0.1111111111111111,
              "#46039f"
             ],
             [
              0.2222222222222222,
              "#7201a8"
             ],
             [
              0.3333333333333333,
              "#9c179e"
             ],
             [
              0.4444444444444444,
              "#bd3786"
             ],
             [
              0.5555555555555556,
              "#d8576b"
             ],
             [
              0.6666666666666666,
              "#ed7953"
             ],
             [
              0.7777777777777778,
              "#fb9f3a"
             ],
             [
              0.8888888888888888,
              "#fdca26"
             ],
             [
              1,
              "#f0f921"
             ]
            ],
            "type": "heatmap"
           }
          ],
          "heatmapgl": [
           {
            "colorbar": {
             "outlinewidth": 0,
             "ticks": ""
            },
            "colorscale": [
             [
              0,
              "#0d0887"
             ],
             [
              0.1111111111111111,
              "#46039f"
             ],
             [
              0.2222222222222222,
              "#7201a8"
             ],
             [
              0.3333333333333333,
              "#9c179e"
             ],
             [
              0.4444444444444444,
              "#bd3786"
             ],
             [
              0.5555555555555556,
              "#d8576b"
             ],
             [
              0.6666666666666666,
              "#ed7953"
             ],
             [
              0.7777777777777778,
              "#fb9f3a"
             ],
             [
              0.8888888888888888,
              "#fdca26"
             ],
             [
              1,
              "#f0f921"
             ]
            ],
            "type": "heatmapgl"
           }
          ],
          "histogram": [
           {
            "marker": {
             "pattern": {
              "fillmode": "overlay",
              "size": 10,
              "solidity": 0.2
             }
            },
            "type": "histogram"
           }
          ],
          "histogram2d": [
           {
            "colorbar": {
             "outlinewidth": 0,
             "ticks": ""
            },
            "colorscale": [
             [
              0,
              "#0d0887"
             ],
             [
              0.1111111111111111,
              "#46039f"
             ],
             [
              0.2222222222222222,
              "#7201a8"
             ],
             [
              0.3333333333333333,
              "#9c179e"
             ],
             [
              0.4444444444444444,
              "#bd3786"
             ],
             [
              0.5555555555555556,
              "#d8576b"
             ],
             [
              0.6666666666666666,
              "#ed7953"
             ],
             [
              0.7777777777777778,
              "#fb9f3a"
             ],
             [
              0.8888888888888888,
              "#fdca26"
             ],
             [
              1,
              "#f0f921"
             ]
            ],
            "type": "histogram2d"
           }
          ],
          "histogram2dcontour": [
           {
            "colorbar": {
             "outlinewidth": 0,
             "ticks": ""
            },
            "colorscale": [
             [
              0,
              "#0d0887"
             ],
             [
              0.1111111111111111,
              "#46039f"
             ],
             [
              0.2222222222222222,
              "#7201a8"
             ],
             [
              0.3333333333333333,
              "#9c179e"
             ],
             [
              0.4444444444444444,
              "#bd3786"
             ],
             [
              0.5555555555555556,
              "#d8576b"
             ],
             [
              0.6666666666666666,
              "#ed7953"
             ],
             [
              0.7777777777777778,
              "#fb9f3a"
             ],
             [
              0.8888888888888888,
              "#fdca26"
             ],
             [
              1,
              "#f0f921"
             ]
            ],
            "type": "histogram2dcontour"
           }
          ],
          "mesh3d": [
           {
            "colorbar": {
             "outlinewidth": 0,
             "ticks": ""
            },
            "type": "mesh3d"
           }
          ],
          "parcoords": [
           {
            "line": {
             "colorbar": {
              "outlinewidth": 0,
              "ticks": ""
             }
            },
            "type": "parcoords"
           }
          ],
          "pie": [
           {
            "automargin": true,
            "type": "pie"
           }
          ],
          "scatter": [
           {
            "fillpattern": {
             "fillmode": "overlay",
             "size": 10,
             "solidity": 0.2
            },
            "type": "scatter"
           }
          ],
          "scatter3d": [
           {
            "line": {
             "colorbar": {
              "outlinewidth": 0,
              "ticks": ""
             }
            },
            "marker": {
             "colorbar": {
              "outlinewidth": 0,
              "ticks": ""
             }
            },
            "type": "scatter3d"
           }
          ],
          "scattercarpet": [
           {
            "marker": {
             "colorbar": {
              "outlinewidth": 0,
              "ticks": ""
             }
            },
            "type": "scattercarpet"
           }
          ],
          "scattergeo": [
           {
            "marker": {
             "colorbar": {
              "outlinewidth": 0,
              "ticks": ""
             }
            },
            "type": "scattergeo"
           }
          ],
          "scattergl": [
           {
            "marker": {
             "colorbar": {
              "outlinewidth": 0,
              "ticks": ""
             }
            },
            "type": "scattergl"
           }
          ],
          "scattermapbox": [
           {
            "marker": {
             "colorbar": {
              "outlinewidth": 0,
              "ticks": ""
             }
            },
            "type": "scattermapbox"
           }
          ],
          "scatterpolar": [
           {
            "marker": {
             "colorbar": {
              "outlinewidth": 0,
              "ticks": ""
             }
            },
            "type": "scatterpolar"
           }
          ],
          "scatterpolargl": [
           {
            "marker": {
             "colorbar": {
              "outlinewidth": 0,
              "ticks": ""
             }
            },
            "type": "scatterpolargl"
           }
          ],
          "scatterternary": [
           {
            "marker": {
             "colorbar": {
              "outlinewidth": 0,
              "ticks": ""
             }
            },
            "type": "scatterternary"
           }
          ],
          "surface": [
           {
            "colorbar": {
             "outlinewidth": 0,
             "ticks": ""
            },
            "colorscale": [
             [
              0,
              "#0d0887"
             ],
             [
              0.1111111111111111,
              "#46039f"
             ],
             [
              0.2222222222222222,
              "#7201a8"
             ],
             [
              0.3333333333333333,
              "#9c179e"
             ],
             [
              0.4444444444444444,
              "#bd3786"
             ],
             [
              0.5555555555555556,
              "#d8576b"
             ],
             [
              0.6666666666666666,
              "#ed7953"
             ],
             [
              0.7777777777777778,
              "#fb9f3a"
             ],
             [
              0.8888888888888888,
              "#fdca26"
             ],
             [
              1,
              "#f0f921"
             ]
            ],
            "type": "surface"
           }
          ],
          "table": [
           {
            "cells": {
             "fill": {
              "color": "#EBF0F8"
             },
             "line": {
              "color": "white"
             }
            },
            "header": {
             "fill": {
              "color": "#C8D4E3"
             },
             "line": {
              "color": "white"
             }
            },
            "type": "table"
           }
          ]
         },
         "layout": {
          "annotationdefaults": {
           "arrowcolor": "#2a3f5f",
           "arrowhead": 0,
           "arrowwidth": 1
          },
          "autotypenumbers": "strict",
          "coloraxis": {
           "colorbar": {
            "outlinewidth": 0,
            "ticks": ""
           }
          },
          "colorscale": {
           "diverging": [
            [
             0,
             "#8e0152"
            ],
            [
             0.1,
             "#c51b7d"
            ],
            [
             0.2,
             "#de77ae"
            ],
            [
             0.3,
             "#f1b6da"
            ],
            [
             0.4,
             "#fde0ef"
            ],
            [
             0.5,
             "#f7f7f7"
            ],
            [
             0.6,
             "#e6f5d0"
            ],
            [
             0.7,
             "#b8e186"
            ],
            [
             0.8,
             "#7fbc41"
            ],
            [
             0.9,
             "#4d9221"
            ],
            [
             1,
             "#276419"
            ]
           ],
           "sequential": [
            [
             0,
             "#0d0887"
            ],
            [
             0.1111111111111111,
             "#46039f"
            ],
            [
             0.2222222222222222,
             "#7201a8"
            ],
            [
             0.3333333333333333,
             "#9c179e"
            ],
            [
             0.4444444444444444,
             "#bd3786"
            ],
            [
             0.5555555555555556,
             "#d8576b"
            ],
            [
             0.6666666666666666,
             "#ed7953"
            ],
            [
             0.7777777777777778,
             "#fb9f3a"
            ],
            [
             0.8888888888888888,
             "#fdca26"
            ],
            [
             1,
             "#f0f921"
            ]
           ],
           "sequentialminus": [
            [
             0,
             "#0d0887"
            ],
            [
             0.1111111111111111,
             "#46039f"
            ],
            [
             0.2222222222222222,
             "#7201a8"
            ],
            [
             0.3333333333333333,
             "#9c179e"
            ],
            [
             0.4444444444444444,
             "#bd3786"
            ],
            [
             0.5555555555555556,
             "#d8576b"
            ],
            [
             0.6666666666666666,
             "#ed7953"
            ],
            [
             0.7777777777777778,
             "#fb9f3a"
            ],
            [
             0.8888888888888888,
             "#fdca26"
            ],
            [
             1,
             "#f0f921"
            ]
           ]
          },
          "colorway": [
           "#636efa",
           "#EF553B",
           "#00cc96",
           "#ab63fa",
           "#FFA15A",
           "#19d3f3",
           "#FF6692",
           "#B6E880",
           "#FF97FF",
           "#FECB52"
          ],
          "font": {
           "color": "#2a3f5f"
          },
          "geo": {
           "bgcolor": "white",
           "lakecolor": "white",
           "landcolor": "#E5ECF6",
           "showlakes": true,
           "showland": true,
           "subunitcolor": "white"
          },
          "hoverlabel": {
           "align": "left"
          },
          "hovermode": "closest",
          "mapbox": {
           "style": "light"
          },
          "paper_bgcolor": "white",
          "plot_bgcolor": "#E5ECF6",
          "polar": {
           "angularaxis": {
            "gridcolor": "white",
            "linecolor": "white",
            "ticks": ""
           },
           "bgcolor": "#E5ECF6",
           "radialaxis": {
            "gridcolor": "white",
            "linecolor": "white",
            "ticks": ""
           }
          },
          "scene": {
           "xaxis": {
            "backgroundcolor": "#E5ECF6",
            "gridcolor": "white",
            "gridwidth": 2,
            "linecolor": "white",
            "showbackground": true,
            "ticks": "",
            "zerolinecolor": "white"
           },
           "yaxis": {
            "backgroundcolor": "#E5ECF6",
            "gridcolor": "white",
            "gridwidth": 2,
            "linecolor": "white",
            "showbackground": true,
            "ticks": "",
            "zerolinecolor": "white"
           },
           "zaxis": {
            "backgroundcolor": "#E5ECF6",
            "gridcolor": "white",
            "gridwidth": 2,
            "linecolor": "white",
            "showbackground": true,
            "ticks": "",
            "zerolinecolor": "white"
           }
          },
          "shapedefaults": {
           "line": {
            "color": "#2a3f5f"
           }
          },
          "ternary": {
           "aaxis": {
            "gridcolor": "white",
            "linecolor": "white",
            "ticks": ""
           },
           "baxis": {
            "gridcolor": "white",
            "linecolor": "white",
            "ticks": ""
           },
           "bgcolor": "#E5ECF6",
           "caxis": {
            "gridcolor": "white",
            "linecolor": "white",
            "ticks": ""
           }
          },
          "title": {
           "x": 0.05
          },
          "xaxis": {
           "automargin": true,
           "gridcolor": "white",
           "linecolor": "white",
           "ticks": "",
           "title": {
            "standoff": 15
           },
           "zerolinecolor": "white",
           "zerolinewidth": 2
          },
          "yaxis": {
           "automargin": true,
           "gridcolor": "white",
           "linecolor": "white",
           "ticks": "",
           "title": {
            "standoff": 15
           },
           "zerolinecolor": "white",
           "zerolinewidth": 2
          }
         }
        },
        "title": {
         "text": "Polar seasonal plot"
        },
        "width": 600
       }
      }
     },
     "metadata": {},
     "output_type": "display_data"
    }
   ],
   "source": [
    "fig = px.line_polar(results_Monaco ,r='positionOrder', theta= 'year_str', \n",
    "                    color = 'driverId', line_close=False, \n",
    "                    title='Polar seasonal plot',\n",
    "                    width=600, height=500)\n",
    "fig.show()"
   ]
  }
 ],
 "metadata": {
  "kernelspec": {
   "display_name": "Python 3",
   "language": "python",
   "name": "python3"
  },
  "language_info": {
   "codemirror_mode": {
    "name": "ipython",
    "version": 3
   },
   "file_extension": ".py",
   "mimetype": "text/x-python",
   "name": "python",
   "nbconvert_exporter": "python",
   "pygments_lexer": "ipython3",
   "version": "3.11.1"
  },
  "orig_nbformat": 4,
  "vscode": {
   "interpreter": {
    "hash": "aee8b7b246df8f9039afb4144a1f6fd8d2ca17a180786b69acc140d282b71a49"
   }
  }
 },
 "nbformat": 4,
 "nbformat_minor": 2
}
